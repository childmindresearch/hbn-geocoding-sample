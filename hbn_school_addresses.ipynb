{
 "cells": [
  {
   "cell_type": "code",
   "execution_count": 32,
   "id": "460d53cc-1d42-44fe-9580-9f6424d1bd47",
   "metadata": {},
   "outputs": [],
   "source": [
    "import pandas as pd\n",
    "import geopandas as gp\n",
    "from pathlib import Path\n",
    "import pygris as pygris\n",
    "from pygris.geocode import geolookup, batch_geocode\n",
    "# import swifter\n",
    "import urllib\n",
    "import re\n",
    "from shapely import wkt\n",
    "# import geodatasets\n",
    "import googlemaps\n",
    "from IPython.display import display, HTML\n",
    "\n",
    "from typing import Optional"
   ]
  },
  {
   "cell_type": "code",
   "execution_count": 9,
   "id": "2a22f5a3-5fe5-4f4c-ae51-3c47c6c9fef9",
   "metadata": {},
   "outputs": [],
   "source": [
    "# Constants and Params\n",
    "\n",
    "# Base Path\n",
    "BASE_PATH = Path(\"Path / to / directory / containing / CSV / file\")\n",
    "# Input Path\n",
    "SCHOOL_ADDR_PATH = BASE_PATH / 'school_geo_nophi_handcode.csv'\n",
    "# Output Path\n",
    "OUTPUT_PATH = BASE_PATH / 'hbn_school_addrs_geo.csv'\n",
    "\n",
    "### Pandas Options ###\n",
    "# View whole dataframes\n",
    "pd.set_option('display.max_rows', None)\n",
    "pd.set_option('display.max_columns', None)\n",
    "pd.set_option('display.max_colwidth', None)"
   ]
  },
  {
   "cell_type": "code",
   "execution_count": 16,
   "id": "80264c6a-1ca3-46e0-a3a5-333ad95945d2",
   "metadata": {},
   "outputs": [],
   "source": [
    "### Geocoding Functions ###\n",
    "\n",
    "# NOTE: This function isn't tested! I'm not sure if PyGris works with just address or name,\n",
    "# or if you need to specify city, state, etc, so may not be useful, but leaving here as an example\n",
    "# of how to use pygris. Let me know if you want to try it and I'll fix it up :)\n",
    "def add_geometry_pygris(df: pd.DataFrame):\n",
    "    census_geocoded = batch_geocode(df, address='address', as_gdf=True)\n",
    "    return df.join(census_geocoded.set_index('id'), rsuffix='_geo') \n",
    "\n",
    "\n",
    "### Below functions add rows to the input DataFrame with geocoded information. \n",
    "# Can specify suffix so that the rows don't overwrite existing geometry columns, or add merging to only overwrite blank spaces.\n",
    "\n",
    "\n",
    "# Geocode using Photon.\n",
    "def add_geometry_column_photon(df: pd.DataFrame, suffix: Optional[str] = None):\n",
    "    if suffix is None:\n",
    "        df[['geometry', 'geocoded_address']] = gp.tools.geocode(df['address'])\n",
    "    else:\n",
    "        df[['geometry' + suffix, 'geocoded_address' + suffix]] = gp.tools.geocode(df['address'])\n",
    "\n",
    "# Geocode using Nominatim.\n",
    "def add_geometry_column_nominatim(df: pd.DataFrame, suffix: Optional[str] = None):\n",
    "    if suffix is None:\n",
    "        df[['geometry', 'geocoded_address']] = gp.tools.geocode(df['address'], provider='nominatim', user_agent='cmiDiskGeo')\n",
    "    else:\n",
    "        df[['geometry' + suffix, 'geocoded_address' + suffix]] = gp.tools.geocode(\n",
    "            df['address'], provider='nominatim', user_agent='cmiDiskGeo')\n",
    "        \n",
    "\n",
    "def google_geocode(\n",
    "    address: str,\n",
    "    gm: googlemaps.Client,\n",
    "    region: Optional[str] = None,\n",
    "    bounds: Optional[dict[dict[str,float]]] = None):\n",
    "    try:\n",
    "        res = gm.geocode(address, region=region, bounds=bounds)\n",
    "        if not res:\n",
    "            print(\"No results for: \" + address)\n",
    "            return [None, None, None, None, None]\n",
    "        place_ids = None\n",
    "        if len(res) >= 2:\n",
    "            print(\"Multiple results for: \" + address)\n",
    "            print(res[0]['formatted_address'])\n",
    "            print(res[1]['formatted_address'])\n",
    "            place_ids = ','.join([r['place_id'] for r in res])\n",
    "        loc = res[0]['geometry']['location']\n",
    "        geometry = Point(loc['lng'], loc['lat'])\n",
    "        place_id = res[0]['place_id']\n",
    "        place_res = gm.place(place_id)\n",
    "        return [geometry, res[0]['formatted_address'], place_id, place_res['result']['name'], place_ids]\n",
    "    except Exception as e:\n",
    "        print(f'Error for: {address}\\n{e}')\n",
    "        return [None, None, None, None, None]\n",
    "\n",
    "# Geocode using Google.\n",
    "def add_geometry_google(df: pd.DataFrame, suffix: Optional[str] = None):\n",
    "    \"\"\"Adds geometry and related columns to df.\"\"\"\n",
    "    gm = googlemaps.Client(key='')\n",
    "    region = 'US'\n",
    "    bounds = {\n",
    "        'northeast': {'lat': 41.714520,'lng': -76.001612},  \n",
    "        'southwest': {'lat': 39.991077, 'lng': -72.461996}}\n",
    "    if suffix is None:\n",
    "        df[['geometry', 'geocoded_address', 'place_id', 'place_name', 'multiple_result_ids']] = df.swifter.progress_bar(\n",
    "            True).allow_dask_on_strings().apply(\n",
    "            lambda r: google_geocode(r.address, gm=gm, region=region, bounds=bounds), axis=1, result_type='expand')\n",
    "    else:\n",
    "        df[[\n",
    "            'geometry' + suffix,\n",
    "            'geocoded_address' + suffix,\n",
    "            'place_id' + suffix,\n",
    "            'place_name' + suffix,\n",
    "            'multiple_result_ids' + suffix\n",
    "        ]] = df.swifter.progress_bar(\n",
    "            True).allow_dask_on_strings().apply(\n",
    "            lambda r: google_geocode(r.address, gm=gm, region=region, bounds=bounds), axis=1, result_type='expand')\n"
   ]
  },
  {
   "cell_type": "code",
   "execution_count": 36,
   "id": "8d7e489a-caee-41d6-a90d-bbc4d437a93d",
   "metadata": {},
   "outputs": [
    {
     "data": {
      "text/html": [
       "<a href='https://google.com/maps/?q=Staten Island Academy, 714 Todt Hill Road Staten Island,NY10304+school'>Staten Island Academy, 714 Todt Hill Road Staten Island,NY10304</a>"
      ],
      "text/plain": [
       "<IPython.core.display.HTML object>"
      ]
     },
     "metadata": {},
     "output_type": "display_data"
    },
    {
     "data": {
      "text/html": [
       "<a href='https://google.com/maps/?q=Redoak, +school'>Redoak, </a>"
      ],
      "text/plain": [
       "<IPython.core.display.HTML object>"
      ]
     },
     "metadata": {},
     "output_type": "display_data"
    },
    {
     "data": {
      "text/html": [
       "<a href='https://google.com/maps/?q=PS29, +school'>PS29, </a>"
      ],
      "text/plain": [
       "<IPython.core.display.HTML object>"
      ]
     },
     "metadata": {},
     "output_type": "display_data"
    },
    {
     "data": {
      "text/html": [
       "<a href='https://google.com/maps/?q=PS340, +school'>PS340, </a>"
      ],
      "text/plain": [
       "<IPython.core.display.HTML object>"
      ]
     },
     "metadata": {},
     "output_type": "display_data"
    },
    {
     "data": {
      "text/html": [
       "<a href='https://google.com/maps/?q=ps 118, +school'>ps 118, </a>"
      ],
      "text/plain": [
       "<IPython.core.display.HTML object>"
      ]
     },
     "metadata": {},
     "output_type": "display_data"
    },
    {
     "data": {
      "text/html": [
       "<a href='https://google.com/maps/?q=Luria Academy, +school'>Luria Academy, </a>"
      ],
      "text/plain": [
       "<IPython.core.display.HTML object>"
      ]
     },
     "metadata": {},
     "output_type": "display_data"
    },
    {
     "data": {
      "text/html": [
       "<a href='https://google.com/maps/?q=Pleasantville Middle School, +school'>Pleasantville Middle School, </a>"
      ],
      "text/plain": [
       "<IPython.core.display.HTML object>"
      ]
     },
     "metadata": {},
     "output_type": "display_data"
    },
    {
     "data": {
      "text/html": [
       "<a href='https://google.com/maps/?q=PS 87, +school'>PS 87, </a>"
      ],
      "text/plain": [
       "<IPython.core.display.HTML object>"
      ]
     },
     "metadata": {},
     "output_type": "display_data"
    }
   ],
   "source": [
    "# Read CSV file to pandas DataFrame (https://pandas.pydata.org/docs/reference/api/pandas.DataFrame.html)\n",
    "school_geo_nophi = pd.read_csv(SCHOOL_ADDR_PATH, index_col='Unnamed: 0')\n",
    "\n",
    "for index, row in school_geo_nophi.iterrows():\n",
    "    # Printing as HTML to avoid needing to replace spaces in URL with + or %20 URL encoding.\n",
    "    # Can also print other info here to help map back to spreadsheet/etc\n",
    "    display(HTML(f\"<a href='https://google.com/maps/?q={row['address']}+school'>{row['address']}</a>\"))\n",
    "    if index > 20: # Remove this to print all\n",
    "        break"
   ]
  }
 ],
 "metadata": {
  "kernelspec": {
   "display_name": "Python 3 (ipykernel)",
   "language": "python",
   "name": "python3"
  },
  "language_info": {
   "codemirror_mode": {
    "name": "ipython",
    "version": 3
   },
   "file_extension": ".py",
   "mimetype": "text/x-python",
   "name": "python",
   "nbconvert_exporter": "python",
   "pygments_lexer": "ipython3",
   "version": "3.12.4"
  }
 },
 "nbformat": 4,
 "nbformat_minor": 5
}
